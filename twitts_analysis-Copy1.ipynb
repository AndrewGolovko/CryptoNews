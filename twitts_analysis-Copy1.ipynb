{
 "cells": [
  {
   "cell_type": "code",
   "execution_count": null,
   "metadata": {},
   "outputs": [],
   "source": [
    "from importnb import Notebook\n",
    "with Notebook():\n",
    "    import news_analysis\n",
    "    \n",
    "import numpy as np\n",
    "import pandas as pd\n",
    "import matplotlib.pyplot as plt\n",
    "%matplotlib inline\n",
    "\n",
    "from sshtunnel import SSHTunnelForwarder\n",
    "import pymongo\n",
    "import datetime\n",
    "import pickle\n",
    "from glob import glob\n",
    "import re\n",
    "from copy import deepcopy\n",
    "# from multiprocessing import Pool\n",
    "from tqdm import tqdm_notebook\n",
    "from collections import Counter\n",
    "from joblib import delayed, Parallel\n",
    "\n",
    "from gensim.test.utils import common_texts\n",
    "from gensim.models.doc2vec import Doc2Vec, TaggedDocument\n",
    "\n",
    "from sklearn.model_selection import train_test_split, cross_val_score, StratifiedKFold, TimeSeriesSplit\n",
    "from sklearn.ensemble import RandomForestRegressor, RandomForestClassifier\n",
    "from sklearn.linear_model import LogisticRegressionCV\n",
    "import sklearn.metrics as metrics\n",
    "from sklearn.ensemble import VotingClassifier\n",
    "from xgboost import XGBRegressor, XGBClassifier\n",
    "import hyperopt\n",
    "from hyperopt import hp\n",
    "\n",
    "import statsmodels.formula.api as smf\n",
    "\n",
    "import warnings\n",
    "warnings.filterwarnings('ignore')"
   ]
  },
  {
   "cell_type": "code",
   "execution_count": null,
   "metadata": {},
   "outputs": [],
   "source": [
    "PATH_TO_DATA = 'data/twitter_models/'"
   ]
  },
  {
   "cell_type": "markdown",
   "metadata": {},
   "source": [
    "#### Metrics"
   ]
  },
  {
   "cell_type": "code",
   "execution_count": null,
   "metadata": {},
   "outputs": [],
   "source": [
    "def accuracy(y_true, y_pred):\n",
    "    return metrics.accuracy_score(y_true, y_pred)\n",
    "\n",
    "def precision(y_true, y_pred): # price up is positive if not down\n",
    "    return metrics.precision_score(y_true, y_pred)\n",
    "\n",
    "def recall(y_true, y_pred, down=False): # price up is positive if not down\n",
    "    return metrics.recall_score(y_true, y_pred)\n",
    "\n",
    "def f1_score(y_true, y_pred, down=False): # price up is positive if not down\n",
    "    return metrics.f1_score(y_true, y_pred)\n",
    "\n",
    "def roc_auc(y_true, y_pred, down=False): # price up is positive if not down\n",
    "    return metrics.roc_auc_score(y_true, y_pred)\n",
    "    \n",
    "def summary(y_true, y_pred):\n",
    "    l = []\n",
    "    l.append('Acc: ' + str(accuracy(y_true, y_pred)))\n",
    "    l.append('Precison: ' + str(precision(y_true, y_pred)))\n",
    "    l.append('Recall: ' + str(recall(y_true, y_pred)))\n",
    "    l.append('F1: ' + str(f1_score(y_true, y_pred)))\n",
    "    l.append('ROC AUC: ' + str(roc_auc(y_true, y_pred)))\n",
    "    l.append('Confusion matrix:')\n",
    "    print('\\n'.join(l))\n",
    "    conf_matr = metrics.confusion_matrix(y_true, y_pred, labels=[0,1])\n",
    "    print(pd.DataFrame({str(i): conf_matr[:,i]for i in [0,1]}))"
   ]
  },
  {
   "cell_type": "markdown",
   "metadata": {},
   "source": [
    "#### Downloading database from server"
   ]
  },
  {
   "cell_type": "code",
   "execution_count": null,
   "metadata": {},
   "outputs": [],
   "source": [
    "def load_collection(db, collection):\n",
    "    MONGO_HOST = \"148.251.21.37\"\n",
    "    MONGO_DB = \"cryptopanic_latest\"\n",
    "    MONGO_USER = \"andrii\"\n",
    "    MONGO_PASS = \"andrii\"\n",
    "    \n",
    "    server = SSHTunnelForwarder(\n",
    "        MONGO_HOST,\n",
    "        ssh_username=MONGO_USER,\n",
    "        ssh_password=MONGO_PASS,\n",
    "        remote_bind_address=('127.0.0.1', 27017)\n",
    "    )\n",
    "    \n",
    "    server.start()\n",
    "    l = []\n",
    "    try:\n",
    "        client = pymongo.MongoClient('127.0.0.1', server.local_bind_port)\n",
    "        c = client[db]\n",
    "        col = c[collection]\n",
    "        n_rec = col.count_documents({})\n",
    "        print('Total records:', n_rec)\n",
    "        cursor = col.find()\n",
    "        l = []\n",
    "        for rec in tqdm_notebook(cursor, total=n_rec):\n",
    "            l.append(rec)\n",
    "        \n",
    "    except Exception as e:\n",
    "        print(e)\n",
    "\n",
    "    server.close()  \n",
    "    df = pd.DataFrame(l)\n",
    "    return df\n",
    "\n",
    "\n",
    "def dump_dataframe(df, name):\n",
    "    pickle.dump(df, open(name+datetime.datetime.now().strftime(\"%Y%m%dT%H%M\")+'.pkl', 'wb'))\n",
    "    \n",
    "def load_dataframe_latest(name):\n",
    "    paths = glob(name+'*.pkl')\n",
    "    dates = np.array([datetime.datetime.strptime(\n",
    "                                    re.findall(pattern='([0-9]{8}T[0-9]{4})', string=path)[0], '%Y%m%dT%H%M') \n",
    "                             for path in paths])\n",
    "\n",
    "    last_df = name+dates.max().strftime(\"%Y%m%dT%H%M\")+'.pkl'\n",
    "    df = pickle.load(open(last_df, 'rb'))\n",
    "    return df"
   ]
  },
  {
   "cell_type": "raw",
   "metadata": {},
   "source": [
    "%%time\n",
    "df_users = load_collection('twitter_history', 'users')\n",
    "dump_dataframe(df_users, PATH_TO_DATA+'df_users')\n",
    "\n",
    "df_tweets = load_collection('twitter_history', 'tweets')\n",
    "dump_dataframe(df_tweets, PATH_TO_DATA+'df_tweets')"
   ]
  },
  {
   "cell_type": "markdown",
   "metadata": {},
   "source": [
    "#### Loading latest DataFrame"
   ]
  },
  {
   "cell_type": "code",
   "execution_count": null,
   "metadata": {},
   "outputs": [],
   "source": [
    "df_users = load_dataframe_latest(PATH_TO_DATA+'df_users')\n",
    "df_tweets = load_dataframe_latest(PATH_TO_DATA+'df_tweets')"
   ]
  },
  {
   "cell_type": "code",
   "execution_count": null,
   "metadata": {},
   "outputs": [],
   "source": [
    "df_users.head()"
   ]
  },
  {
   "cell_type": "code",
   "execution_count": null,
   "metadata": {},
   "outputs": [],
   "source": [
    "df_tweets.head()"
   ]
  },
  {
   "cell_type": "markdown",
   "metadata": {},
   "source": [
    "#### Some changes to DataFrames"
   ]
  },
  {
   "cell_type": "code",
   "execution_count": null,
   "metadata": {},
   "outputs": [],
   "source": [
    "def moving_sum(a, window):\n",
    "    b = np.concatenate([np.zeros(window-1), a])\n",
    "    A = np.concatenate([b[i:b.shape[0]-window+1+i].reshape(-1,1) for i in range(window)], axis=1)\n",
    "    ms = A.sum(axis=1)\n",
    "    return ms\n",
    "\n",
    "def moving_average(a, window):\n",
    "    ms = moving_sum(a, window)\n",
    "    ma = ms / np.concatenate([np.arange(1,window), np.ones(ms.shape[0] - window + 1) * window])\n",
    "    return ma"
   ]
  },
  {
   "cell_type": "code",
   "execution_count": null,
   "metadata": {},
   "outputs": [],
   "source": [
    "assert Counter(df_users.id).most_common()[0][1] == 1\n",
    "assert Counter(df_tweets.id).most_common()[0][1] == 1\n",
    "df_users.set_index('id', inplace=True)\n",
    "df_tweets.set_index('id', inplace=True)"
   ]
  },
  {
   "cell_type": "code",
   "execution_count": null,
   "metadata": {},
   "outputs": [],
   "source": [
    "def add_user_info(df_tweets, df_users):\n",
    "    df = df_tweets.copy()\n",
    "    columns = ['followers', 'friends', 'tweets']\n",
    "    ar = np.array([df_users.loc[user][columns].values for user in tqdm_notebook(df.id_user_owner.values)])\n",
    "    for i, column in enumerate(columns):\n",
    "        df[column] = ar[:,i]\n",
    "    return df"
   ]
  },
  {
   "cell_type": "raw",
   "metadata": {},
   "source": [
    "df = add_user_info(df_tweets, df_users)\n",
    "pickle.dump(df, open(PATH_TO_DATA+'df.tmp','wb'))"
   ]
  },
  {
   "cell_type": "code",
   "execution_count": null,
   "metadata": {},
   "outputs": [],
   "source": [
    "df = pickle.load(open(PATH_TO_DATA+'df.tmp','rb'))\n",
    "ts = df.created_at.values.astype(datetime.datetime) // 1000000000\n",
    "df['created_at'] = np.array(list(map(datetime.datetime.fromtimestamp, ts)))\n",
    "df.set_index(ts, inplace=True)\n",
    "df.sort_index(inplace=True)"
   ]
  },
  {
   "cell_type": "code",
   "execution_count": null,
   "metadata": {},
   "outputs": [],
   "source": [
    "Counter(df.kind.values)"
   ]
  },
  {
   "cell_type": "code",
   "execution_count": null,
   "metadata": {},
   "outputs": [],
   "source": [
    "kind_dict = {'tweet': 0,'retweeted': 1,'retweeted-reply': 2,'quoted': 3,'quoted-reply': 4}\n",
    "df['kind'] = df['kind'].apply(lambda x: kind_dict[x])"
   ]
  },
  {
   "cell_type": "code",
   "execution_count": null,
   "metadata": {},
   "outputs": [],
   "source": [
    "df = df.loc[:,['created_at', 'kind', 'likes', 'retweets', 'text']]"
   ]
  },
  {
   "cell_type": "code",
   "execution_count": null,
   "metadata": {},
   "outputs": [],
   "source": [
    "window_likes = 100\n",
    "for column in ['likes', 'retweets']:\n",
    "    df[column+'_ma'] = moving_average(df[column].values, 100)"
   ]
  },
  {
   "cell_type": "code",
   "execution_count": null,
   "metadata": {},
   "outputs": [],
   "source": [
    "df.head()"
   ]
  },
  {
   "cell_type": "markdown",
   "metadata": {},
   "source": [
    "#### Downloading prices"
   ]
  },
  {
   "cell_type": "code",
   "execution_count": null,
   "metadata": {},
   "outputs": [],
   "source": [
    "def to_datetime(iterable, pattern='%Y-%m-%dT%H:%M', period_seconds=5*60):\n",
    "    '''\n",
    "    patterns:\n",
    "    '%m/%d/%Y %H:%M' for `date_modified`\n",
    "    '%Y-%m-%dT%H:%M' for `created_at`\n",
    "    '''\n",
    "    dates = np.array([datetime.datetime.strptime(date_str[:16], pattern) for date_str in iterable])\n",
    "    dates = np.array([datetime.datetime.fromtimestamp((date.timestamp() // period_seconds) * period_seconds) for date in dates])\n",
    "    return dates\n",
    "\n",
    "def download_prices(start=1405699200, end=9999999999, period_seconds=300, currency='BTC'):\n",
    "    '''\n",
    "    download prices (pair USDT/BTC) from poloniex\n",
    "    returns dataframe\n",
    "    '''\n",
    "    address = 'https://poloniex.com/public?command=returnChartData&currencyPair=USDT_'+currency+'&start='+ \\\n",
    "                str(start)+'&end='+str(end)+'&period='+str(period_seconds)\n",
    "    df_prices = pd.read_json(address)\n",
    "    return df_prices\n",
    "\n",
    "def get_prices_at_date(timestamps, df_prices, price='close', period=5*60):\n",
    "    '''\n",
    "    timestamps and prices need to be sorted\n",
    "    '''\n",
    "    prices = []\n",
    "    df = df_prices.copy()\n",
    "    prices_ts = df.date.values.astype(datetime.datetime) // 1000000000\n",
    "    \n",
    "    s_prices = df_prices.loc[:,price]\n",
    "    s_prices.index = prices_ts\n",
    "    \n",
    "    dates = (timestamps // period) * period\n",
    "    for date in tqdm_notebook(dates):\n",
    "        \n",
    "        if date in s_prices.index:\n",
    "            prices.append(s_prices[date])\n",
    "        else:\n",
    "            prices.append(0)\n",
    "    return np.array(prices)"
   ]
  },
  {
   "cell_type": "raw",
   "metadata": {},
   "source": [
    "start = min(df.index.values)\n",
    "df_prices = download_prices(start, currency='BTC')\n",
    "pickle.dump(df_prices, open('df_prices.pkl', 'wb'))"
   ]
  },
  {
   "cell_type": "code",
   "execution_count": null,
   "metadata": {},
   "outputs": [],
   "source": [
    "df_prices = pickle.load(open('df_prices.pkl', 'rb'))\n",
    "prices0 = get_prices_at_date(df.index.values, df_prices)\n",
    "prices1 = get_prices_at_date(df.index.values + 6*60*60, df_prices)"
   ]
  },
  {
   "cell_type": "code",
   "execution_count": null,
   "metadata": {},
   "outputs": [],
   "source": [
    "df['price'] = prices0\n",
    "df['target'] = prices1\n",
    "df = df[df.price > 0]"
   ]
  },
  {
   "cell_type": "raw",
   "metadata": {},
   "source": [
    "pickle.dump(df, open(PATH_TO_DATA+'df2.tmp','wb'))"
   ]
  },
  {
   "cell_type": "raw",
   "metadata": {},
   "source": [
    "df = pickle.load(open(PATH_TO_DATA+'df2.tmp','rb'))"
   ]
  },
  {
   "cell_type": "markdown",
   "metadata": {},
   "source": [
    "#### Split dataset"
   ]
  },
  {
   "cell_type": "code",
   "execution_count": null,
   "metadata": {},
   "outputs": [],
   "source": [
    "dates = np.array([datetime.datetime.strptime(re.findall(pattern='([0-9]{8}T[0-9]{4})',\n",
    "                                                        string=path)[0], '%Y%m%dT%H%M') \n",
    "                  for path in glob('data/news_models/dbnews*.pkl')])\n",
    "\n",
    "last_db_news = 'data/news_models/dbnews' + dates.max().strftime(\"%Y%m%dT%H%M\")+ '.pkl'\n",
    "CENSORED_WORDS, CENSORED_NLEMMAS = news_analysis._get_censored_nlemmas(last_db_news)"
   ]
  },
  {
   "cell_type": "code",
   "execution_count": null,
   "metadata": {},
   "outputs": [],
   "source": [
    "def _preprocess(texts):\n",
    "    processed_texts = news_analysis._get_texts(texts)\n",
    "    return processed_texts\n",
    "\n",
    "def find_indexes(preprocessed_texts, words):\n",
    "    ixs = []\n",
    "    for i, texts in enumerate(tqdm_notebook(preprocessed_texts)):\n",
    "        t = ' '.join(texts)\n",
    "        for w in words:\n",
    "            match_list = re.findall(pattern='({})'.format(w),string=t)\n",
    "            if len(match_list) >= 1:\n",
    "                ixs.append(i)\n",
    "                break\n",
    "    return np.array(ixs)"
   ]
  },
  {
   "cell_type": "markdown",
   "metadata": {},
   "source": [
    "drop old twitts"
   ]
  },
  {
   "cell_type": "code",
   "execution_count": null,
   "metadata": {},
   "outputs": [],
   "source": [
    "df = df[df.created_at >= '2016-01-01 00:00:00'] "
   ]
  },
  {
   "cell_type": "markdown",
   "metadata": {},
   "source": [
    "drop non relavant twitts"
   ]
  },
  {
   "cell_type": "code",
   "execution_count": null,
   "metadata": {},
   "outputs": [],
   "source": [
    "preprocessed_texts = _preprocess(df.text.values)"
   ]
  },
  {
   "cell_type": "code",
   "execution_count": null,
   "metadata": {},
   "outputs": [],
   "source": [
    "flatten = lambda l: [item for sublist in l for item in sublist]\n",
    "ixs = find_indexes(preprocessed_texts, \n",
    "                  np.unique(np.array(list(CENSORED_WORDS) + flatten(CENSORED_NLEMMAS))))"
   ]
  },
  {
   "cell_type": "code",
   "execution_count": null,
   "metadata": {},
   "outputs": [],
   "source": [
    "df.shape, ixs.shape"
   ]
  },
  {
   "cell_type": "raw",
   "metadata": {},
   "source": [
    "df = df.iloc[ixs]\n",
    "pickle.dump(df, open(PATH_TO_DATA+'df_preprocessed.tmp','wb'))"
   ]
  },
  {
   "cell_type": "markdown",
   "metadata": {},
   "source": [
    "# Start here"
   ]
  },
  {
   "cell_type": "code",
   "execution_count": null,
   "metadata": {},
   "outputs": [],
   "source": [
    "df = pickle.load(open(PATH_TO_DATA+'df_preprocessed.tmp','rb'))"
   ]
  },
  {
   "cell_type": "code",
   "execution_count": null,
   "metadata": {},
   "outputs": [],
   "source": [
    "class D2Vmodel:\n",
    "    def __init__(self, vector_size=10, window=2, min_count=1, n_jobs=1,\n",
    "                 alpha=0.1, min_alpha=0.0001, steps=5,\n",
    "                 censored=False):\n",
    "        self.vector_size = vector_size\n",
    "        self.window = window\n",
    "        self.min_count = min_count\n",
    "        self.d2v_model = None\n",
    "        self.n_jobs = n_jobs\n",
    "        self.censored = censored\n",
    "        self.alpha = alpha\n",
    "        self.min_alpha = min_alpha\n",
    "        self.steps = steps\n",
    "    \n",
    "    def fit_transform(self, titles, verbose=0):\n",
    "        texts = self._preprocess(titles)\n",
    "        if verbose > 0:\n",
    "            documents = [TaggedDocument(doc, [i]) for i, doc in enumerate(tqdm_notebook(texts, desc='tag'))]\n",
    "        else:\n",
    "            documents = [TaggedDocument(doc, [i]) for i, doc in enumerate(texts)]\n",
    "        self.d2v_model = Doc2Vec(documents, \n",
    "                                 vector_size=self.vector_size, \n",
    "                                 window=self.window, \n",
    "                                 min_count=self.min_count, \n",
    "                                 workers=self.n_jobs)\n",
    "        if verbose > 0:\n",
    "            X = np.array([self.d2v_model.infer_vector(text, self.alpha, self.min_alpha, self.steps) \n",
    "                          for text in tqdm_notebook(texts, desc='fit')])\n",
    "        else: \n",
    "            X = np.array([self.d2v_model.infer_vector(text, self.alpha, self.min_alpha, self.steps) \n",
    "                          for text in texts])\n",
    "        return X\n",
    "    \n",
    "    def transform(self, titles, verbose=0):\n",
    "        texts = self._preprocess(titles)\n",
    "        if verbose > 0:\n",
    "            X = np.array([self.d2v_model.infer_vector(text, self.alpha, self.min_alpha, self.steps) \n",
    "                          for text in tqdm_notebook(texts, desc='fit')])\n",
    "        else: \n",
    "            X = np.array([self.d2v_model.infer_vector(text, self.alpha, self.min_alpha, self.steps) \n",
    "                          for text in texts])\n",
    "        return X\n",
    "    \n",
    "    def _preprocess(self, titles):\n",
    "        texts = _preprocess(titles)\n",
    "        if self.censored:\n",
    "            texts = news_analysis._censor(texts, CENSORED_WORDS, CENSORED_NLEMMAS)\n",
    "        return texts\n",
    "\n",
    "def split_data(df, train_size, lag):\n",
    "    train, test = train_test_split(df, train_size=train_size, shuffle=False)\n",
    "    last_train = train.index.values[-1]\n",
    "    test = test[test.index.values >= last_train + lag]\n",
    "    return train, test\n",
    "    \n",
    "def d2v_fit_transform_dataframe(df_train, df_test, d2v, verbose=0):\n",
    "    texts_train, texts_test = df_train.text.values, df_test.text.values\n",
    "    df_train, df_test = df_train.drop(columns='text'), df_test.drop(columns='text')\n",
    "    emb_train = d2v.fit_transform(texts_train, verbose=verbose)\n",
    "    emb_test = d2v.transform(texts_test, verbose=verbose)\n",
    "    for i in range(emb_train.shape[1]):\n",
    "        df_train['emb'+str(i)] = emb_train[:,i]\n",
    "        df_test['emb'+str(i)] = emb_test[:,i]\n",
    "    return df_train, df_test"
   ]
  },
  {
   "cell_type": "markdown",
   "metadata": {},
   "source": [
    "#### Preprocess data"
   ]
  },
  {
   "cell_type": "code",
   "execution_count": null,
   "metadata": {},
   "outputs": [],
   "source": [
    "df.head()"
   ]
  },
  {
   "cell_type": "code",
   "execution_count": null,
   "metadata": {},
   "outputs": [],
   "source": [
    "train, test = split_data(df.loc[:,['text', 'price', 'target']], 0.6, 6*60*60)"
   ]
  },
  {
   "cell_type": "raw",
   "metadata": {},
   "source": [
    "%%time\n",
    "d2v = D2Vmodel(n_jobs=-1, steps=5)\n",
    "df_train, df_test = d2v_fit_transform_dataframe(train, test, d2v, verbose=1)"
   ]
  },
  {
   "cell_type": "code",
   "execution_count": null,
   "metadata": {},
   "outputs": [],
   "source": [
    "def series_to_dataset(df, window):\n",
    "    dfs = [df.drop(columns='target').iloc[i:df.shape[0]+i-window+1] for i in range(window)]\n",
    "    for i in range(window):\n",
    "        dfs[i]['timestamp'] = dfs[i].index.values\n",
    "        dfs[i].columns = dfs[i].columns + '_' + str(i)\n",
    "        dfs[i].set_index(np.arange(dfs[i].shape[0]), inplace=True)\n",
    "    dataset = pd.concat(dfs, axis=1)\n",
    "    dataset.set_index(df.index.values[window-1:], inplace=True)\n",
    "    dataset['target'] = df.target.values[window-1:]\n",
    "    return dataset\n",
    "\n",
    "def get_target_up(prices0, prices1, threshold=0.002):\n",
    "    target = prices1 / prices0 - 1\n",
    "    target_class = [0 if t < threshold else 1 for t in target]\n",
    "    return np.array(target_class)\n",
    "\n",
    "def get_target_down(prices0, prices1, threshold=0.002):\n",
    "    target = prices1 / prices0 - 1\n",
    "    target_class = [0 if t > - threshold else 1 for t in target]\n",
    "    return np.array(target_class)\n",
    "\n",
    "def get_X_y(dataset, target_function, threshold=0.002):\n",
    "    target = dataset.target.values\n",
    "    price_columns = []\n",
    "    for col in dataset.columns:\n",
    "        if 'price_' in col:\n",
    "            price_columns.append(col)\n",
    "    prices0 = dataset.loc[:,price_columns[np.array([int(col[6:]) for col in price_columns]).argmax()]].values\n",
    "    prices1 = dataset.target.values\n",
    "    y = target_function(prices0, prices1, threshold)\n",
    "    X = dataset.drop(columns='target')\n",
    "    return X, y\n",
    "\n",
    "def add_bootstrap_samples(x, y):\n",
    "    count = np.bincount(y)\n",
    "    n0, n1 = tuple(count)\n",
    "    label = count.argmin()\n",
    "    another_label = 1 - label\n",
    "    \n",
    "    rare_samples_indexes = np.arange(x.shape[0])[y == label]\n",
    "    n_new_samples = count[another_label] - count[label]\n",
    "    indexes = np.random.choice(rare_samples_indexes, size=n_new_samples).astype(int)\n",
    "    new_samples = x.iloc[indexes]\n",
    "    new_labels = y[indexes]\n",
    "    return pd.concat([x, new_samples]), np.concatenate([y, new_labels])"
   ]
  },
  {
   "cell_type": "code",
   "execution_count": null,
   "metadata": {},
   "outputs": [],
   "source": [
    "dataset_train = series_to_dataset(df_train, 10)\n",
    "dataset_test = series_to_dataset(df_test, 10)\n",
    "\n",
    "X_up_train, y_up_train = get_X_y(dataset_train, get_target_up, threshold=0.002)\n",
    "X_up_test, y_up_test = get_X_y(dataset_test, get_target_up, threshold=0.002)\n",
    "\n",
    "X_down_train, y_down_train = get_X_y(dataset_train, get_target_down, threshold=0.002)\n",
    "X_down_test, y_down_test = get_X_y(dataset_test, get_target_down, threshold=0.002)"
   ]
  },
  {
   "cell_type": "raw",
   "metadata": {},
   "source": [
    "dataset_train = pickle.load(open(PATH_TO_DATA+'dataset_train.pkl', 'rb'))\n",
    "dataset_test = pickle.load(open(PATH_TO_DATA+'dataset_test.pkl', 'rb'))\n",
    "\n",
    "X_up_train, X_up_test, y_up_train, y_up_test = pickle.load(open(PATH_TO_DATA+'X_y_up.pkl', 'rb'))\n",
    "X_down_train, X_down_test, y_down_train, y_down_test = pickle.load(open(PATH_TO_DATA+'X_y_down.pkl', 'rb'))"
   ]
  },
  {
   "cell_type": "code",
   "execution_count": null,
   "metadata": {},
   "outputs": [],
   "source": [
    "columns = []\n",
    "for col in X_up_train.columns:\n",
    "    if 'emb' in col:\n",
    "        columns.append(col)\n",
    "        \n",
    "X_up_train, X_up_test = X_up_train.loc[:,columns], X_up_test.loc[:,columns]\n",
    "X_down_train, X_down_test = X_down_train.loc[:,columns], X_down_test.loc[:,columns]\n",
    "\n",
    "X_up_train, y_up_train = add_bootstrap_samples(X_up_train, y_up_train)\n",
    "X_down_train, y_down_train = add_bootstrap_samples(X_down_train, y_down_train)"
   ]
  },
  {
   "cell_type": "code",
   "execution_count": null,
   "metadata": {},
   "outputs": [],
   "source": [
    "cv = StratifiedKFold(n_splits=3, shuffle=True)"
   ]
  },
  {
   "cell_type": "code",
   "execution_count": null,
   "metadata": {},
   "outputs": [],
   "source": [
    "logit_up = LogisticRegressionCV(cv=cv, scoring='precision', n_jobs=-1).fit(X_up_train, y_up_train)\n",
    "logit_down = LogisticRegressionCV(cv=cv, scoring='precision' , n_jobs=-1).fit(X_down_train, y_down_train)"
   ]
  },
  {
   "cell_type": "code",
   "execution_count": null,
   "metadata": {},
   "outputs": [],
   "source": [
    "logit_up"
   ]
  },
  {
   "cell_type": "code",
   "execution_count": null,
   "metadata": {},
   "outputs": [],
   "source": [
    "pred_up = logit_up.predict(X_up_test)\n",
    "pred_down = logit_down.predict(X_down_test)"
   ]
  },
  {
   "cell_type": "code",
   "execution_count": null,
   "metadata": {},
   "outputs": [],
   "source": [
    "np.bincount(y_up_test)"
   ]
  },
  {
   "cell_type": "code",
   "execution_count": null,
   "metadata": {},
   "outputs": [],
   "source": [
    "summary(y_up_test, pred_up)"
   ]
  },
  {
   "cell_type": "code",
   "execution_count": null,
   "metadata": {},
   "outputs": [],
   "source": [
    "np.bincount(y_down_test)"
   ]
  },
  {
   "cell_type": "code",
   "execution_count": null,
   "metadata": {
    "scrolled": true
   },
   "outputs": [],
   "source": [
    "summary(y_down_test, pred_down)"
   ]
  },
  {
   "cell_type": "code",
   "execution_count": null,
   "metadata": {},
   "outputs": [],
   "source": []
  },
  {
   "cell_type": "code",
   "execution_count": null,
   "metadata": {},
   "outputs": [],
   "source": []
  },
  {
   "cell_type": "code",
   "execution_count": null,
   "metadata": {},
   "outputs": [],
   "source": [
    "D2Vmodel()"
   ]
  },
  {
   "cell_type": "code",
   "execution_count": null,
   "metadata": {
    "scrolled": true
   },
   "outputs": [],
   "source": [
    "for window in [2, 3, 4, 5]:\n",
    "    for vector_size in [5,10,20,40,70,100]:\n",
    "        print('window =', window, '; vector_size =', vector_size)\n",
    "        d2v = D2Vmodel(n_jobs=-1, steps=5, window=window, vector_size=vector_size)\n",
    "        train, test = split_data(df.loc[:,['text', 'price', 'target']], 0.6, 6*60*60)\n",
    "        df_train, df_test = d2v_fit_transform_dataframe(train, test, d2v, verbose=1)\n",
    "        \n",
    "        dataset_train = series_to_dataset(df_train, 10)\n",
    "        dataset_test = series_to_dataset(df_test, 10)\n",
    "        X_up_train, y_up_train = get_X_y(dataset_train, get_target_up, threshold=0)\n",
    "        X_up_test, y_up_test = get_X_y(dataset_test, get_target_up, threshold=0)\n",
    "        X_down_train, y_down_train = get_X_y(dataset_train, get_target_down, threshold=0)\n",
    "        X_down_test, y_down_test = get_X_y(dataset_test, get_target_down, threshold=0)\n",
    "        \n",
    "        columns = []\n",
    "        for col in X_up_train.columns:\n",
    "            if 'emb' in col:\n",
    "                columns.append(col)\n",
    "\n",
    "        X_up_train, X_up_test = X_up_train.loc[:,columns], X_up_test.loc[:,columns]\n",
    "        X_down_train, X_down_test = X_down_train.loc[:,columns], X_down_test.loc[:,columns]\n",
    "\n",
    "        X_up_train, y_up_train = add_bootstrap_samples(X_up_train, y_up_train)\n",
    "        X_down_train, y_down_train = add_bootstrap_samples(X_down_train, y_down_train)\n",
    "        \n",
    "        cv = StratifiedKFold(n_splits=3, shuffle=True)\n",
    "\n",
    "        logit_up = LogisticRegressionCV(cv=cv, scoring='precision', n_jobs=-1).fit(X_up_train, y_up_train)\n",
    "        logit_down = LogisticRegressionCV(cv=cv, scoring='precision' , n_jobs=-1).fit(X_down_train, y_down_train)\n",
    "\n",
    "        pred_up = logit_up.predict(X_up_test)\n",
    "        pred_down = logit_down.predict(X_down_test)\n",
    "\n",
    "        summary(y_up_test, pred_up)\n",
    "        summary(y_down_test, pred_down)"
   ]
  },
  {
   "cell_type": "code",
   "execution_count": null,
   "metadata": {},
   "outputs": [],
   "source": [
    "preds_up = []\n",
    "preds_down = []\n",
    "\n",
    "for window in [2, 3, 4, 5]:\n",
    "    for vector_size in [5,10,20,40,70,100]:\n",
    "        print('window =', window, '; vector_size =', vector_size)\n",
    "        d2v = D2Vmodel(n_jobs=-1, steps=5, window=window, vector_size=vector_size)\n",
    "        train, test = split_data(df.loc[:,['text', 'price', 'target']], 0.6, 6*60*60)\n",
    "        df_train, df_test = d2v_fit_transform_dataframe(train, test, d2v)\n",
    "        \n",
    "        dataset_train = series_to_dataset(df_train, 10)\n",
    "        dataset_test = series_to_dataset(df_test, 10)\n",
    "        X_up_train, y_up_train = get_X_y(dataset_train, get_target_up, threshold=0.002)\n",
    "        X_up_test, y_up_test = get_X_y(dataset_test, get_target_up, threshold=0.002)\n",
    "        X_down_train, y_down_train = get_X_y(dataset_train, get_target_down, threshold=0.002)\n",
    "        X_down_test, y_down_test = get_X_y(dataset_test, get_target_down, threshold=0.002)\n",
    "        \n",
    "        columns = []\n",
    "        for col in X_up_train.columns:\n",
    "            if 'emb' in col:\n",
    "                columns.append(col)\n",
    "\n",
    "        X_up_train, X_up_test = X_up_train.loc[:,columns], X_up_test.loc[:,columns]\n",
    "        X_down_train, X_down_test = X_down_train.loc[:,columns], X_down_test.loc[:,columns]\n",
    "\n",
    "        X_up_train, y_up_train = add_bootstrap_samples(X_up_train, y_up_train)\n",
    "        X_down_train, y_down_train = add_bootstrap_samples(X_down_train, y_down_train)\n",
    "        \n",
    "        cv = StratifiedKFold(n_splits=3, shuffle=True)\n",
    "\n",
    "        logit_up = LogisticRegressionCV(cv=cv, scoring='precision', n_jobs=-1).fit(X_up_train, y_up_train)\n",
    "        logit_down = LogisticRegressionCV(cv=cv, scoring='precision' , n_jobs=-1).fit(X_down_train, y_down_train)\n",
    "\n",
    "        pred_up = logit_up.predict(X_up_test)\n",
    "        pred_down = logit_down.predict(X_down_test)\n",
    "\n",
    "        preds_up.append(pred_up)\n",
    "        preds_down.append(pred_down)\n",
    "        \n",
    "        summary(y_up_test, pred_up)\n",
    "        summary(y_down_test, pred_down)\n",
    "        print()"
   ]
  },
  {
   "cell_type": "code",
   "execution_count": null,
   "metadata": {},
   "outputs": [],
   "source": []
  },
  {
   "cell_type": "markdown",
   "metadata": {},
   "source": [
    "# TF-IDF"
   ]
  },
  {
   "cell_type": "code",
   "execution_count": null,
   "metadata": {},
   "outputs": [],
   "source": [
    "from sklearn.feature_extraction.text import TfidfVectorizer\n",
    "\n",
    "def text_vectorizer_fit_transform_dataframe(df_train, df_test, vectorizer, return_embeddings=False):\n",
    "    texts_train, texts_test = df_train.text.values, df_test.text.values\n",
    "    df_train, df_test = df_train.drop(columns='text'), df_test.drop(columns='text')\n",
    "    print('Fit')\n",
    "    emb_train = vectorizer.fit_transform(texts_train)\n",
    "    print('Transform')\n",
    "    emb_test = vectorizer.transform(texts_test)\n",
    "    print('Done')\n",
    "    if return_embeddings:\n",
    "        return emb_train, emb_test\n",
    "    for i in tqdm_notebook(range(emb_train.shape[1])):\n",
    "        df_train['emb'+str(i)] = emb_train[:,i]\n",
    "        df_test['emb'+str(i)] = emb_test[:,i]\n",
    "    return df_train, df_test"
   ]
  },
  {
   "cell_type": "code",
   "execution_count": null,
   "metadata": {},
   "outputs": [],
   "source": [
    "tfidf = TfidfVectorizer(stop_words='english', ngram_range=(1,2))"
   ]
  },
  {
   "cell_type": "code",
   "execution_count": null,
   "metadata": {},
   "outputs": [],
   "source": [
    "train, test = split_data(df.loc[:,['text', 'price', 'target']], 0.6, 6*60*60)"
   ]
  },
  {
   "cell_type": "code",
   "execution_count": null,
   "metadata": {},
   "outputs": [],
   "source": [
    "emb_train, emb_test = text_vectorizer_fit_transform_dataframe(train, test, tfidf, return_embeddings=True)"
   ]
  },
  {
   "cell_type": "code",
   "execution_count": null,
   "metadata": {},
   "outputs": [],
   "source": []
  },
  {
   "cell_type": "code",
   "execution_count": null,
   "metadata": {},
   "outputs": [],
   "source": [
    "from scipy.sparse import hstack\n",
    "\n",
    "def series_to_dataset_sparse(emb, window):\n",
    "    dfs = [emb[i:emb.shape[0]+i-window+1] for i in range(window)]\n",
    "    dataset = hstack(dfs, format='csr')\n",
    "#     dataset = pd.concat(dfs, axis=1)\n",
    "#     dataset.set_index(df.index.values[window-1:], inplace=True)\n",
    "#     dataset['target'] = df.target.values[window-1:]\n",
    "    return dataset"
   ]
  },
  {
   "cell_type": "code",
   "execution_count": null,
   "metadata": {},
   "outputs": [],
   "source": [
    "X_train = series_to_dataset_sparse(emb_train, 10)\n",
    "X_test = series_to_dataset_sparse(emb_test, 10)"
   ]
  },
  {
   "cell_type": "code",
   "execution_count": null,
   "metadata": {},
   "outputs": [],
   "source": [
    "from sklearn.decomposition import TruncatedSVD\n",
    "\n",
    "svd = TruncatedSVD(n_components=1000)\n",
    "Xt_train = svd.fit_transform(X_train)\n",
    "Xt_test = svd.transform(X_test)"
   ]
  },
  {
   "cell_type": "code",
   "execution_count": null,
   "metadata": {},
   "outputs": [],
   "source": [
    "threshold = 0.002\n",
    "\n",
    "prices0 = train.price.values[9:]\n",
    "prices1 = train.target.values[9:]\n",
    "y_up_train = get_target_up(prices0, prices1, threshold)\n",
    "y_down_train = get_target_down(prices0, prices1, threshold)\n",
    "\n",
    "prices0 = test.price.values[9:]\n",
    "prices1 = test.target.values[9:]\n",
    "y_up_test = get_target_up(prices0, prices1, threshold)\n",
    "y_down_test = get_target_down(prices0, prices1, threshold)"
   ]
  },
  {
   "cell_type": "code",
   "execution_count": null,
   "metadata": {},
   "outputs": [],
   "source": [
    "%%time\n",
    "cv = TimeSeriesSplit(n_splits=2)\n",
    "\n",
    "logit_up = LogisticRegressionCV(cv=cv, scoring='precision', n_jobs=-1, Cs=2).fit(X_train, y_up_train)\n",
    "logit_down = LogisticRegressionCV(cv=cv, scoring='precision' , n_jobs=-1, Cs=2).fit(X_train, y_down_train)"
   ]
  },
  {
   "cell_type": "code",
   "execution_count": null,
   "metadata": {},
   "outputs": [],
   "source": [
    "pred_up = logit_up.predict(X_test)\n",
    "pred_down = logit_down.predict(X_test)\n",
    "\n",
    "np.bincount(y_up_test)\n",
    "\n",
    "summary(y_up_test, pred_up)\n",
    "\n",
    "np.bincount(y_down_test)\n",
    "\n",
    "summary(y_down_test, pred_down)"
   ]
  },
  {
   "attachments": {
    "image.png": {
     "image/png": "[encoded data removed]"
    }
   },
   "cell_type": "markdown",
   "metadata": {},
   "source": [
    "![image.png](attachment:image.png)"
   ]
  },
  {
   "attachments": {
    "image.png": {
     "image/png": "[encoded data removed]"
    }
   },
   "cell_type": "markdown",
   "metadata": {},
   "source": [
    "![image.png](attachment:image.png)"
   ]
  },
  {
   "cell_type": "code",
   "execution_count": null,
   "metadata": {},
   "outputs": [],
   "source": []
  }
 ],
 "metadata": {
  "kernelspec": {
   "display_name": "Python 3",
   "language": "python",
   "name": "python3"
  },
  "language_info": {
   "codemirror_mode": {
    "name": "ipython",
    "version": 3
   },
   "file_extension": ".py",
   "mimetype": "text/x-python",
   "name": "python",
   "nbconvert_exporter": "python",
   "pygments_lexer": "ipython3",
   "version": "3.6.7"
  }
 },
 "nbformat": 4,
 "nbformat_minor": 2
}
