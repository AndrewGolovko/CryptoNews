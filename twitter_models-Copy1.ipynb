{
 "cells": [
  {
   "cell_type": "code",
   "execution_count": null,
   "metadata": {},
   "outputs": [],
   "source": [
    "from importnb import Notebook\n",
    "with Notebook():\n",
    "    import news_analysis\n",
    "    \n",
    "import numpy as np\n",
    "import pandas as pd\n",
    "import matplotlib.pyplot as plt\n",
    "%matplotlib inline\n",
    "\n",
    "from sshtunnel import SSHTunnelForwarder\n",
    "import pymongo\n",
    "import datetime\n",
    "import pickle\n",
    "from glob import glob\n",
    "import re\n",
    "from copy import deepcopy\n",
    "from multiprocessing import Pool\n",
    "from tqdm import tqdm_notebook\n",
    "from collections import Counter\n",
    "from joblib import delayed, Parallel\n",
    "\n",
    "from gensim.test.utils import common_texts\n",
    "from gensim.models.doc2vec import Doc2Vec, TaggedDocument\n",
    "\n",
    "from sklearn.model_selection import train_test_split, cross_val_score, StratifiedKFold\n",
    "from sklearn.ensemble import RandomForestRegressor, RandomForestClassifier\n",
    "import sklearn.metrics as metrics\n",
    "from sklearn.ensemble import VotingClassifier\n",
    "from xgboost import XGBRegressor, XGBClassifier\n",
    "import hyperopt\n",
    "from hyperopt import hp\n",
    "\n",
    "import statsmodels.formula.api as smf\n",
    "\n",
    "import warnings\n",
    "warnings.filterwarnings('ignore')"
   ]
  },
  {
   "cell_type": "code",
   "execution_count": null,
   "metadata": {},
   "outputs": [],
   "source": [
    "PATH_TO_DATA = 'data/twitter_models/'"
   ]
  },
  {
   "cell_type": "markdown",
   "metadata": {},
   "source": [
    "#### Metrics"
   ]
  },
  {
   "cell_type": "code",
   "execution_count": null,
   "metadata": {},
   "outputs": [],
   "source": [
    "def accuracy(y_true, y_pred):\n",
    "    return metrics.accuracy_score(y_true, y_pred)\n",
    "\n",
    "def precision(y_true, y_pred): # price up is positive if not down\n",
    "    return metrics.precision_score(y_true, y_pred)\n",
    "\n",
    "def recall(y_true, y_pred, down=False): # price up is positive if not down\n",
    "    return metrics.recall_score(y_true, y_pred)\n",
    "\n",
    "def f1_score(y_true, y_pred, down=False): # price up is positive if not down\n",
    "    return metrics.f1_score(y_true, y_pred)\n",
    "\n",
    "def roc_auc(y_true, y_pred, down=False): # price up is positive if not down\n",
    "    return metrics.roc_auc_score(y_true, y_pred)\n",
    "    \n",
    "def summary(y_true, y_pred):\n",
    "    l = []\n",
    "    l.append('Acc: ' + str(accuracy(y_true, y_pred)))\n",
    "    l.append('Precison: ' + str(precision(y_true, y_pred)))\n",
    "    l.append('Recall: ' + str(recall(y_true, y_pred)))\n",
    "    l.append('F1: ' + str(f1_score(y_true, y_pred)))\n",
    "    l.append('ROC AUC: ' + str(roc_auc(y_true, y_pred)))\n",
    "    l.append('Confusion matrix:')\n",
    "    print('\\n'.join(l))\n",
    "    conf_matr = metrics.confusion_matrix(y_true, y_pred, labels=[0,1])\n",
    "    print(pd.DataFrame({str(i): conf_matr[:,i]for i in [0,1]}))"
   ]
  },
  {
   "cell_type": "markdown",
   "metadata": {},
   "source": [
    "#### Downloading database from server"
   ]
  },
  {
   "cell_type": "code",
   "execution_count": null,
   "metadata": {},
   "outputs": [],
   "source": [
    "def load_collection(db, collection):\n",
    "    MONGO_HOST = \"148.251.21.37\"\n",
    "    MONGO_DB = \"cryptopanic_latest\"\n",
    "    MONGO_USER = \"andrii\"\n",
    "    MONGO_PASS = \"andrii\"\n",
    "    \n",
    "    server = SSHTunnelForwarder(\n",
    "        MONGO_HOST,\n",
    "        ssh_username=MONGO_USER,\n",
    "        ssh_password=MONGO_PASS,\n",
    "        remote_bind_address=('127.0.0.1', 27017)\n",
    "    )\n",
    "    \n",
    "    server.start()\n",
    "    l = []\n",
    "    try:\n",
    "        client = pymongo.MongoClient('127.0.0.1', server.local_bind_port)\n",
    "        c = client[db]\n",
    "        col = c[collection]\n",
    "        n_rec = col.count_documents({})\n",
    "        print('Total records:', n_rec)\n",
    "        cursor = col.find()\n",
    "        l = []\n",
    "        for rec in tqdm_notebook(cursor, total=n_rec):\n",
    "            l.append(rec)\n",
    "        \n",
    "    except Exception as e:\n",
    "        print(e)\n",
    "\n",
    "    server.close()  \n",
    "    df = pd.DataFrame(l)\n",
    "    return df\n",
    "\n",
    "\n",
    "def dump_dataframe(df, name):\n",
    "    pickle.dump(df, open(name+datetime.datetime.now().strftime(\"%Y%m%dT%H%M\")+'.pkl', 'wb'))\n",
    "    \n",
    "def load_dataframe_latest(name):\n",
    "    paths = glob(name+'*.pkl')\n",
    "    dates = np.array([datetime.datetime.strptime(\n",
    "                                    re.findall(pattern='([0-9]{8}T[0-9]{4})', string=path)[0], '%Y%m%dT%H%M') \n",
    "                             for path in paths])\n",
    "\n",
    "    last_df = name+dates.max().strftime(\"%Y%m%dT%H%M\")+'.pkl'\n",
    "    df = pickle.load(open(last_df, 'rb'))\n",
    "    return df"
   ]
  },
  {
   "cell_type": "raw",
   "metadata": {},
   "source": [
    "%%time\n",
    "df_users = load_collection('twitter_history', 'users')\n",
    "dump_dataframe(df_users, PATH_TO_DATA+'df_users')\n",
    "\n",
    "df_tweets = load_collection('twitter_history', 'tweets')\n",
    "dump_dataframe(df_tweets, PATH_TO_DATA+'df_tweets')"
   ]
  },
  {
   "cell_type": "markdown",
   "metadata": {},
   "source": [
    "#### Loading latest DataFrame"
   ]
  },
  {
   "cell_type": "code",
   "execution_count": null,
   "metadata": {},
   "outputs": [],
   "source": [
    "df_users = load_dataframe_latest(PATH_TO_DATA+'df_users')\n",
    "df_tweets = load_dataframe_latest(PATH_TO_DATA+'df_tweets')"
   ]
  },
  {
   "cell_type": "markdown",
   "metadata": {},
   "source": [
    "#### Some changes to DataFrames"
   ]
  },
  {
   "cell_type": "code",
   "execution_count": null,
   "metadata": {},
   "outputs": [],
   "source": [
    "def moving_sum(a, window):\n",
    "    b = np.concatenate([np.zeros(window-1), a])\n",
    "    A = np.concatenate([b[i:b.shape[0]-window+1+i].reshape(-1,1) for i in range(window)], axis=1)\n",
    "    ms = A.sum(axis=1)\n",
    "    return ms\n",
    "\n",
    "def moving_average(a, window):\n",
    "    ms = moving_sum(a, window)\n",
    "    ma = ms / np.concatenate([np.arange(1,window), np.ones(ms.shape[0] - window + 1) * window])\n",
    "    return ma"
   ]
  },
  {
   "cell_type": "code",
   "execution_count": null,
   "metadata": {},
   "outputs": [],
   "source": [
    "assert Counter(df_users.id).most_common()[0][1] == 1\n",
    "assert Counter(df_tweets.id).most_common()[0][1] == 1\n",
    "df_users.set_index('id', inplace=True)\n",
    "df_tweets.set_index('id', inplace=True)"
   ]
  },
  {
   "cell_type": "code",
   "execution_count": null,
   "metadata": {},
   "outputs": [],
   "source": [
    "def add_user_info(df_tweets, df_users):\n",
    "    df = df_tweets.copy()\n",
    "    columns = ['followers', 'friends', 'tweets']\n",
    "    ar = np.array([df_users.loc[user][columns].values for user in tqdm_notebook(df.id_user_owner.values)])\n",
    "    for i, column in enumerate(columns):\n",
    "        df[column] = ar[:,i]\n",
    "    return df"
   ]
  },
  {
   "cell_type": "code",
   "execution_count": null,
   "metadata": {},
   "outputs": [],
   "source": [
    "df = add_user_info(df_tweets, df_users)"
   ]
  },
  {
   "cell_type": "raw",
   "metadata": {},
   "source": [
    "pickle.dump(df, open(PATH_TO_DATA+'df.tmp','wb'))"
   ]
  },
  {
   "cell_type": "code",
   "execution_count": null,
   "metadata": {},
   "outputs": [],
   "source": [
    "ts = df.created_at.values.astype(datetime.datetime) // 1000000000\n",
    "df['created_at'] = np.array(list(map(datetime.datetime.fromtimestamp, ts)))\n",
    "df.set_index(ts, inplace=True)\n",
    "df.sort_index(inplace=True)"
   ]
  },
  {
   "cell_type": "code",
   "execution_count": null,
   "metadata": {},
   "outputs": [],
   "source": [
    "Counter(df.kind.values)"
   ]
  },
  {
   "cell_type": "code",
   "execution_count": null,
   "metadata": {},
   "outputs": [],
   "source": [
    "kind_dict = {'tweet': 0,'retweeted': 1,'retweeted-reply': 2,'quoted': 3,'quoted-reply': 4}\n",
    "df['kind'] = df['kind'].apply(lambda x: kind_dict[x])"
   ]
  },
  {
   "cell_type": "code",
   "execution_count": null,
   "metadata": {},
   "outputs": [],
   "source": [
    "df = df.loc[:,['created_at', 'kind', 'likes', 'retweets', 'text']]"
   ]
  },
  {
   "cell_type": "code",
   "execution_count": null,
   "metadata": {},
   "outputs": [],
   "source": [
    "window_likes = 100\n",
    "for column in ['likes', 'retweets']:\n",
    "    df[column+'_ma'] = moving_average(df[column].values, 100)"
   ]
  },
  {
   "cell_type": "code",
   "execution_count": null,
   "metadata": {},
   "outputs": [],
   "source": [
    "df.head()"
   ]
  },
  {
   "cell_type": "markdown",
   "metadata": {},
   "source": [
    "#### Downloading prices"
   ]
  },
  {
   "cell_type": "code",
   "execution_count": null,
   "metadata": {},
   "outputs": [],
   "source": [
    "def to_datetime(iterable, pattern='%Y-%m-%dT%H:%M', period_seconds=5*60):\n",
    "    '''\n",
    "    patterns:\n",
    "    '%m/%d/%Y %H:%M' for `date_modified`\n",
    "    '%Y-%m-%dT%H:%M' for `created_at`\n",
    "    '''\n",
    "    dates = np.array([datetime.datetime.strptime(date_str[:16], pattern) for date_str in iterable])\n",
    "    dates = np.array([datetime.datetime.fromtimestamp((date.timestamp() // period_seconds) * period_seconds) for date in dates])\n",
    "    return dates\n",
    "\n",
    "def download_prices(start=1405699200, end=9999999999, period_seconds=300, currency='BTC'):\n",
    "    '''\n",
    "    download prices (pair USDT/BTC) from poloniex\n",
    "    returns dataframe\n",
    "    '''\n",
    "    address = 'https://poloniex.com/public?command=returnChartData&currencyPair=USDT_'+currency+'&start='+ \\\n",
    "                str(start)+'&end='+str(end)+'&period='+str(period_seconds)\n",
    "    df_prices = pd.read_json(address)\n",
    "    return df_prices\n",
    "\n",
    "def get_prices_at_date(timestamps, df_prices, price='close', period=5*60):\n",
    "    '''\n",
    "    timestamps and prices need to be sorted\n",
    "    '''\n",
    "    prices = []\n",
    "    df = df_prices.copy()\n",
    "    prices_ts = df.date.values.astype(datetime.datetime) // 1000000000\n",
    "    \n",
    "    s_prices = df_prices.loc[:,price]\n",
    "    s_prices.index = prices_ts\n",
    "    \n",
    "    dates = (timestamps // period) * period\n",
    "    for date in tqdm_notebook(dates):\n",
    "        \n",
    "        if date in s_prices.index:\n",
    "            prices.append(s_prices[date])\n",
    "        else:\n",
    "            prices.append(0)\n",
    "    return np.array(prices)"
   ]
  },
  {
   "cell_type": "raw",
   "metadata": {},
   "source": [
    "start = min(df.index.values)\n",
    "df_prices = download_prices(start, currency='BTC')\n",
    "pickle.dump(df_prices, open('df_prices.pkl', 'wb'))"
   ]
  },
  {
   "cell_type": "code",
   "execution_count": null,
   "metadata": {},
   "outputs": [],
   "source": [
    "prices0 = get_prices_at_date(df.index.values, df_prices)\n",
    "prices1 = get_prices_at_date(df.index.values + 6*60*60, df_prices)"
   ]
  },
  {
   "cell_type": "code",
   "execution_count": null,
   "metadata": {},
   "outputs": [],
   "source": [
    "df['price'] = prices0\n",
    "df['target'] = prices1\n",
    "df = df[df.price > 0]"
   ]
  },
  {
   "cell_type": "raw",
   "metadata": {},
   "source": [
    "pickle.dump(df, open(PATH_TO_DATA+'df2.tmp','wb'))"
   ]
  },
  {
   "cell_type": "raw",
   "metadata": {},
   "source": [
    "df = pickle.load(open(PATH_TO_DATA+'df2.tmp','rb'))"
   ]
  },
  {
   "cell_type": "markdown",
   "metadata": {},
   "source": [
    "#### Split dataset"
   ]
  },
  {
   "cell_type": "code",
   "execution_count": null,
   "metadata": {},
   "outputs": [],
   "source": [
    "# CENSORED_WORDS, CENSORED_NLEMMAS = news_analysis._get_censored_nlemmas(last_db_news)\n",
    "\n",
    "class D2Vmodel:\n",
    "    def __init__(self, vector_size=10, window=2, min_count=1, n_jobs=1, alpha=0.1, min_alpha=0.0001, steps=5, censored=False):\n",
    "        self.vector_size = vector_size\n",
    "        self.window = window\n",
    "        self.min_count = min_count\n",
    "        self.d2v_model = None\n",
    "        self.n_jobs = n_jobs\n",
    "        self.censored = censored\n",
    "        self.alpha = alpha\n",
    "        self.min_alpha = min_alpha\n",
    "        self.steps = steps\n",
    "    \n",
    "    def fit_transform(self, titles, verbose=0):\n",
    "        texts = self._preprocess(titles)\n",
    "        if verbose > 0:\n",
    "            documents = [TaggedDocument(doc, [i]) for i, doc in enumerate(tqdm_notebook(texts, desc='tag'))]\n",
    "        else:\n",
    "            documents = [TaggedDocument(doc, [i]) for i, doc in enumerate(texts)]\n",
    "        self.d2v_model = Doc2Vec(documents, \n",
    "                                 vector_size=self.vector_size, \n",
    "                                 window=self.window, \n",
    "                                 min_count=self.min_count, \n",
    "                                 workers=self.n_jobs)\n",
    "        if verbose > 0:\n",
    "            X = np.array([self.d2v_model.infer_vector(text, self.alpha, self.min_alpha, self.steps) \n",
    "                          for text in tqdm_notebook(texts, desc='fit')])\n",
    "        else: \n",
    "            X = np.array([self.d2v_model.infer_vector(text, self.alpha, self.min_alpha, self.steps) \n",
    "                          for text in texts])\n",
    "        return X\n",
    "    \n",
    "    def transform(self, titles, verbose=0):\n",
    "        texts = self._preprocess(titles)\n",
    "        if verbose > 0:\n",
    "            X = np.array([self.d2v_model.infer_vector(text, self.alpha, self.min_alpha, self.steps) \n",
    "                          for text in tqdm_notebook(texts, desc='fit')])\n",
    "        else: \n",
    "            X = np.array([self.d2v_model.infer_vector(text, self.alpha, self.min_alpha, self.steps) \n",
    "                          for text in texts])\n",
    "        return X\n",
    "    \n",
    "    def _preprocess(self, titles):\n",
    "        texts = news_analysis._get_texts(titles)\n",
    "        if self.censored:\n",
    "            texts = news_analysis._censor(texts, CENSORED_WORDS, CENSORED_NLEMMAS)\n",
    "        return texts\n",
    "\n",
    "def split_data(df, train_size, lag):\n",
    "    train, test = train_test_split(df, train_size=train_size, shuffle=False)\n",
    "    last_train = train.index.values[-1]\n",
    "    test = test[test.index.values >= last_train + lag]\n",
    "    return train, test\n",
    "    \n",
    "def d2v_fit_transform_dataframe(df_train, df_test, d2v, verbose=0):\n",
    "    texts_train, texts_test = df_train.text.values, df_test.text.values\n",
    "    df_train, df_test = df_train.drop(columns='text'), df_test.drop(columns='text')\n",
    "    emb_train = d2v.fit_transform(texts_train, verbose=1)\n",
    "    emb_test = d2v.transform(texts_test, verbose=1)\n",
    "    for i in range(emb_train.shape[1]):\n",
    "        df_train['emb'+str(i)] = emb_train[:,i]\n",
    "        df_test['emb'+str(i)] = emb_test[:,i]\n",
    "    return df_train, df_test"
   ]
  },
  {
   "cell_type": "raw",
   "metadata": {},
   "source": [
    "%%time\n",
    "d2v = D2Vmodel(n_jobs=-1, steps=5)\n",
    "train, test = split_data(df, 0.6, 6*60*60)\n",
    "df_train, df_test = d2v_fit_transform_dataframe(train, test, d2v, verbose=1)"
   ]
  },
  {
   "cell_type": "markdown",
   "metadata": {},
   "source": [
    "#### Preprocess data"
   ]
  },
  {
   "cell_type": "code",
   "execution_count": null,
   "metadata": {},
   "outputs": [],
   "source": [
    "def series_to_dataset(df, window):\n",
    "    dfs = [df.drop(columns='target').iloc[i:df.shape[0]+i-window+1] for i in range(window)]\n",
    "    for i in range(window):\n",
    "        dfs[i]['timestamp'] = dfs[i].index.values\n",
    "        dfs[i].columns = dfs[i].columns + '_' + str(i)\n",
    "        dfs[i].set_index(np.arange(dfs[i].shape[0]), inplace=True)\n",
    "    dataset = pd.concat(dfs, axis=1)\n",
    "    dataset.set_index(df.index.values[window-1:], inplace=True)\n",
    "    dataset['target'] = df.target.values[window-1:]\n",
    "    return dataset\n",
    "\n",
    "def get_target_up(prices0, prices1, threshold=0.002):\n",
    "    target = prices1 / prices0 - 1\n",
    "    target_class = [0 if t < threshold else 1 for t in target]\n",
    "    return np.array(target_class)\n",
    "\n",
    "def get_target_down(prices0, prices1, threshold=0.002):\n",
    "    target = prices1 / prices0 - 1\n",
    "    target_class = [0 if t > - threshold else 1 for t in target]\n",
    "    return np.array(target_class)\n",
    "\n",
    "def get_X_y(dataset, target_function, threshold=0.002):\n",
    "    target = dataset.target.values\n",
    "    price_columns = []\n",
    "    for col in dataset.columns:\n",
    "        if 'price_' in col:\n",
    "            price_columns.append(col)\n",
    "    prices0 = dataset.loc[:,price_columns[np.array([int(col[6:]) for col in price_columns]).argmax()]].values\n",
    "    prices1 = dataset.target.values\n",
    "    y = target_function(prices0, prices1, threshold)\n",
    "    X = dataset.drop(columns='target')\n",
    "    return X, y"
   ]
  },
  {
   "cell_type": "raw",
   "metadata": {},
   "source": [
    "dataset_train = series_to_dataset(df_train.drop(columns='created_at'), 10)\n",
    "dataset_test = series_to_dataset(df_test.drop(columns='created_at'), 10)\n",
    "\n",
    "X_up_train, y_up_train = get_X_y(dataset_train, get_target_up)\n",
    "X_up_test, y_up_test = get_X_y(dataset_test, get_target_up)\n",
    "\n",
    "X_down_train, y_down_train = get_X_y(dataset_train, get_target_down)\n",
    "X_down_test, y_down_test = get_X_y(dataset_test, get_target_down)\n",
    "\n",
    "pickle.dump((X_up_train, X_up_test, y_up_train, y_up_test), open(PATH_TO_DATA+'X_y_up.pkl', 'wb'))\n",
    "pickle.dump((X_down_train, X_down_test, y_down_train, y_down_test), open(PATH_TO_DATA+'X_y_down.pkl', 'wb'))"
   ]
  },
  {
   "cell_type": "code",
   "execution_count": null,
   "metadata": {},
   "outputs": [],
   "source": [
    "X_up_train, X_up_test, y_up_train, y_up_test = pickle.load(open(PATH_TO_DATA+'X_y_up.pkl', 'rb'))\n",
    "X_down_train, X_down_test, y_down_train, y_down_test = pickle.load(open(PATH_TO_DATA+'X_y_down.pkl', 'rb'))"
   ]
  },
  {
   "cell_type": "markdown",
   "metadata": {},
   "source": [
    "## Hyperparameters optimization"
   ]
  },
  {
   "cell_type": "code",
   "execution_count": null,
   "metadata": {},
   "outputs": [],
   "source": [
    "class ObjectiveFunctionBase:\n",
    "    def __init__(self, X, y, scoring_function, k_folds=10, verbose=1,\n",
    "                 log_path=PATH_TO_DATA+'logs/'):\n",
    "        self.X = X\n",
    "        self.y = y\n",
    "        self.scoring_function = scoring_function\n",
    "        self.k_folds = k_folds\n",
    "        self.verbose = verbose\n",
    "        self.iteration = 0\n",
    "        self.log_csv = log_path + 'Base_' + datetime.datetime.now().strftime('%Y%m%dT%H%M') + '.csv'\n",
    "\n",
    "    def _get_estimator(self, X):\n",
    "        assert True, 'Can not __call__ with _get_estimator of ObjectiveFunctionBase'\n",
    "        \n",
    "    def _set_log(self, log_csv):\n",
    "        self.log_csv = log_csv\n",
    "        \n",
    "    # Calculate cross validation score (default is 10-fold CV)\n",
    "    def __call__(self, X):\n",
    "        self.iteration += 1\n",
    "        print('Iteration:', self.iteration)\n",
    "        estimator = self._get_estimator(X)\n",
    "        cv = StratifiedKFold(n_splits=self.k_folds, shuffle=False)\n",
    "        scorer = metrics.make_scorer(self.scoring_function)\n",
    "        scores = cross_val_score(estimator, self.X, self.y, cv=cv,scoring=scorer,n_jobs=-1)\n",
    "        mean_score = np.mean(scores)\n",
    "        if self.verbose > 0:\n",
    "            print('params:', X)\n",
    "            print('Scores:', scores)\n",
    "            print('Mean score:', mean_score)\n",
    "            print()\n",
    "        if self.iteration == 1:\n",
    "            df_log = pd.DataFrame(columns=list(X.keys()) + ['scores', 'mean_score'])\n",
    "            df_log.to_csv(self.log_csv)\n",
    "        new_row = {item[0]: item[1] for item in X.items()}\n",
    "        new_row['scores'] = scores\n",
    "        new_row['mean_score'] = mean_score\n",
    "        df_log = pd.read_csv(self.log_csv).loc[:,list(new_row.keys())]\n",
    "        df_log = df_log.append(new_row, ignore_index=True)\n",
    "        df_log.to_csv(self.log_csv)\n",
    "        return - mean_score    # for minimization\n",
    "    \n",
    "class ObjectiveFunctionXGBClassifier(ObjectiveFunctionBase):\n",
    "    def __init__(self, X, y, scoring_function, k_folds=10, verbose=1, log_path=PATH_TO_DATA+'logs/'):\n",
    "        super(ObjectiveFunctionXGBClassifier, self).__init__(X, y, scoring_function, \n",
    "                                            k_folds, verbose)\n",
    "        ObjectiveFunctionBase._set_log(self, log_path + 'XGBclf_' + datetime.datetime.now().strftime('%Y%m%dT%H%M') + '.csv')\n",
    "    \n",
    "    def _get_estimator(self, X):\n",
    "        return XGBClassifier(   max_depth=int(X['max_depth']),\n",
    "                                learing_rate=3**X['learing_rate'],\n",
    "                                n_estimators=int(2**X['n_estimators']),\n",
    "                                objective=X['objective'],\n",
    "                                booster=X['booster'],\n",
    "                                min_child_weight=int(X['min_child_weight']),\n",
    "                                max_delta_step=int(X['max_delta_step']))\n",
    "    \n",
    "class ObjectiveFunctionRandomForestClassifier(ObjectiveFunctionBase):\n",
    "    def __init__(self, X, y, scoring_function, k_folds=10, verbose=1, log_path=PATH_TO_DATA+'logs/'):\n",
    "        super(ObjectiveFunctionRandomForestClassifier, self).__init__(X, y, scoring_function, \n",
    "                                            k_folds, verbose)\n",
    "        ObjectiveFunctionBase._set_log(self, log_path + 'RFclf_' + datetime.datetime.now().strftime('%Y%m%dT%H%M') + '.csv')\n",
    "    \n",
    "    def _get_estimator(self, X):\n",
    "        return RandomForestClassifier(max_depth=int(1.2**X['max_depth']), \n",
    "                                      n_estimators=int(2**X['n_estimators']),\n",
    "                                     min_samples_leaf=int(X['min_samples_leaf']))"
   ]
  },
  {
   "cell_type": "code",
   "execution_count": null,
   "metadata": {},
   "outputs": [],
   "source": [
    "parameter_space = {'max_depth':hp.quniform('max_depth',2,20,q=1),\n",
    "                  'learing_rate':hp.uniform('learing_rate',-5,-1),\n",
    "                  'n_estimators':hp.quniform('n_estimators',3,8,q=1),\n",
    "                   'objective':hp.choice('objective',['reg:linear','reg:logistic','binary:logistic']),\n",
    "                  'booster':hp.choice('booster',['gbtree', 'gblinear', 'dart']),\n",
    "                  'min_child_weight':hp.quniform('min_child_weight',1,5,q=1),\n",
    "                  'max_delta_step':hp.quniform('max_delta_step',0,5,q=1)}"
   ]
  },
  {
   "cell_type": "code",
   "execution_count": null,
   "metadata": {
    "scrolled": true
   },
   "outputs": [],
   "source": [
    "%%time\n",
    "f_xgb_up = ObjectiveFunctionXGBClassifier(X_up_train, y_up_train, metrics.recall_score, k_folds=4)\n",
    "trials = hyperopt.Trials()\n",
    "best = hyperopt.fmin(f_xgb_up, parameter_space, \n",
    "                     algo=hyperopt.tpe.suggest, max_evals=3, trials=trials, verbose=1)\n",
    "print(\"best estimate parameters\", best)"
   ]
  },
  {
   "cell_type": "raw",
   "metadata": {},
   "source": [
    "max_depth=int(X['max_depth']),\n",
    "learing_rate=3**X['learing_rate'],\n",
    "n_estimators=int(2**X['n_estimators']),\n",
    "objective=X['objective'],\n",
    "booster=X['booster'],\n",
    "min_child_weight=int(X['min_child_weight']),\n",
    "max_delta_step=int(X['max_delta_step'])\n",
    "\n",
    "Iteration: 38\n",
    "params: {'booster': 'dart', 'learing_rate': -1.774218508406182, 'max_delta_step': 3.0, 'max_depth': 3.0, 'min_child_weight': 5.0, 'n_estimators': 6.0, 'objective': 'reg:linear'}\n",
    "Scores: [0.39585605 0.32543641 0.14222874 0.37164751]\n",
    "Mean score: 0.30879217747590865\n",
    "\n",
    "best estimate parameters {'booster': 2, 'learing_rate': -1.774218508406182, 'max_delta_step': 3.0, 'max_depth': 3.0, 'min_child_weight': 5.0, 'n_estimators': 6.0, 'objective': 0}\n",
    "CPU times: user 5.78 s, sys: 557 ms, total: 6.34 s\n",
    "Wall time: 11min 2s"
   ]
  },
  {
   "cell_type": "code",
   "execution_count": null,
   "metadata": {},
   "outputs": [],
   "source": [
    "f_xgb_down = ObjectiveFunctionXGBClassifier(df_down, metrics.f1_score, k_folds=4)\n",
    "trials = hyperopt.Trials()"
   ]
  },
  {
   "cell_type": "code",
   "execution_count": null,
   "metadata": {
    "scrolled": true
   },
   "outputs": [],
   "source": [
    "%%time\n",
    "best = hyperopt.fmin(f_xgb_down, parameter_space, \n",
    "                     algo=hyperopt.tpe.suggest, max_evals=100, trials=trials, verbose=1)\n",
    "print(\"best estimate parameters\", best)"
   ]
  },
  {
   "cell_type": "raw",
   "metadata": {},
   "source": [
    "Iteration: 52\n",
    "params: {'booster': 'dart', 'learing_rate': -2.4751503456340562, 'max_delta_step': 2.0, 'max_depth': 5.0, 'min_child_weight': 1.0, 'n_estimators': 3.0, 'objective': 'reg:logistic'}\n",
    "Scores: [0.30434783 0.5535545  0.58703072 0.02702703]\n",
    "Mean score: 0.3679900180518003\n",
    "\n",
    "best estimate parameters {'booster': 2, 'learing_rate': -2.4751503456340562, 'max_delta_step': 2.0, 'max_depth': 5.0, 'min_child_weight': 1.0, 'n_estimators': 3.0, 'objective': 1}\n",
    "CPU times: user 5.54 s, sys: 573 ms, total: 6.11 s\n",
    "Wall time: 7min 8s"
   ]
  },
  {
   "cell_type": "code",
   "execution_count": null,
   "metadata": {},
   "outputs": [],
   "source": []
  },
  {
   "cell_type": "code",
   "execution_count": null,
   "metadata": {},
   "outputs": [],
   "source": [
    "f_rf_up = ObjectiveFunctionRandomForestClassifier(df_up, metrics.f1_score, k_folds=4)\n",
    "trials = hyperopt.Trials()\n",
    "parameter_space = {'max_depth':hp.quniform('max_depth',8,35,q=1),\n",
    "                  'n_estimators':hp.uniform('n_estimators',3,10),\n",
    "                  'min_samples_leaf':hp.quniform('min_samples_leaf',2,15,q=1)}"
   ]
  },
  {
   "cell_type": "code",
   "execution_count": null,
   "metadata": {
    "scrolled": true
   },
   "outputs": [],
   "source": [
    "%%time\n",
    "best = hyperopt.fmin(f_rf_up, parameter_space, \n",
    "                     algo=hyperopt.tpe.suggest, max_evals=100, trials=trials, verbose=1)\n",
    "print(\"best estimate parameters\", best)"
   ]
  },
  {
   "cell_type": "raw",
   "metadata": {},
   "source": [
    "max_depth=int(1.2**X['max_depth']), \n",
    "n_estimators=int(2**X['n_estimators']),\n",
    "min_samples_split=int(X['mix_samples_split'])\n",
    "    \n",
    "Iteration: 51\n",
    "params: {'max_depth': 19.0, 'mix_samples_split': 7.0, 'n_estimators': 3.3453193469804283}\n",
    "Scores: [0.39456522 0.33607521 0.14327485 0.05376344]\n",
    "Mean score: 0.23191967942327799\n",
    "\n",
    "best estimate parameters {'max_depth': 19.0, 'mix_samples_split': 7.0, 'n_estimators': 3.3453193469804283}\n",
    "CPU times: user 4.25 s, sys: 574 ms, total: 4.82 s\n",
    "Wall time: 11min 6s                                  "
   ]
  },
  {
   "cell_type": "code",
   "execution_count": null,
   "metadata": {},
   "outputs": [],
   "source": [
    "f_rf_down = ObjectiveFunctionRandomForestClassifier(df_down, metrics.f1_score, k_folds=4)\n",
    "trials = hyperopt.Trials()"
   ]
  },
  {
   "cell_type": "code",
   "execution_count": null,
   "metadata": {
    "scrolled": true
   },
   "outputs": [],
   "source": [
    "%%time\n",
    "best = hyperopt.fmin(f_rf_down, parameter_space, \n",
    "                     algo=hyperopt.tpe.suggest, max_evals=100, trials=trials, verbose=1)\n",
    "print(\"best estimate parameters\", best)"
   ]
  },
  {
   "cell_type": "raw",
   "metadata": {},
   "source": [
    "Iteration: 27\n",
    "params: {'max_depth': 8.0, 'mix_samples_split': 5.0, 'n_estimators': 7.180527387650649}\n",
    "Scores: [0.30232558 0.5509434  0.60377358 0.        ]\n",
    "Mean score: 0.36426064063185604\n",
    "\n",
    "best estimate parameters {'max_depth': 8.0, 'mix_samples_split': 5.0, 'n_estimators': 7.180527387650649}\n",
    "CPU times: user 4.05 s, sys: 704 ms, total: 4.76 s\n",
    "Wall time: 7min 49s"
   ]
  },
  {
   "cell_type": "code",
   "execution_count": null,
   "metadata": {},
   "outputs": [],
   "source": []
  },
  {
   "cell_type": "markdown",
   "metadata": {},
   "source": [
    "#### Test"
   ]
  },
  {
   "cell_type": "code",
   "execution_count": null,
   "metadata": {},
   "outputs": [],
   "source": [
    "df_test = pickle.load(open(PATH_TO_DATA+'dataset_test.pkl', 'rb'))\n",
    "df_up_test = df_test.drop(['Y_down', 'target'], axis=1).rename(columns={'Y_up':'Y'})\n",
    "df_down_test = df_test.drop(['Y_up', 'target'], axis=1).rename(columns={'Y_down':'Y'})"
   ]
  },
  {
   "cell_type": "code",
   "execution_count": null,
   "metadata": {},
   "outputs": [],
   "source": [
    "X_up_train, Y_up_train = df_up.drop('Y', axis=1).values, df_up['Y'].values\n",
    "X_down_train, Y_down_train = df_down.drop('Y', axis=1).values, df_down['Y'].values\n",
    "X_up_test, Y_up_test = df_up_test.drop('Y', axis=1).values, df_up_test['Y'].values\n",
    "X_down_test, Y_down_test = df_down_test.drop('Y', axis=1).values, df_down_test['Y'].values"
   ]
  },
  {
   "cell_type": "code",
   "execution_count": null,
   "metadata": {},
   "outputs": [],
   "source": [
    "xgb_up = XGBClassifier(max_depth=3,\n",
    "                        learing_rate=3**-1.774218508406182,\n",
    "                        n_estimators=int(2**6),\n",
    "                        objective='reg:linear',\n",
    "                        booster='dart',\n",
    "                        min_child_weight=5,\n",
    "                        max_delta_step=3, \n",
    "                        nthread=-1)\n",
    "xgb_down = XGBClassifier(max_depth=5,\n",
    "                        learing_rate=3**-2.4751503456340562,\n",
    "                        n_estimators=int(2**3),\n",
    "                        objective='reg:logistic',\n",
    "                        booster='dart',\n",
    "                        min_child_weight=1,\n",
    "                        max_delta_step=2, \n",
    "                        nthread=-1)\n",
    "rf_up = RandomForestClassifier(max_depth=int(1.2**19),\n",
    "                               min_samples_leaf=7,\n",
    "                               n_estimators=int(2**3.3453193469804283),\n",
    "                               n_jobs=-1)\n",
    "rf_down = RandomForestClassifier(max_depth=int(1.2**8),\n",
    "                                min_samples_leaf=5,\n",
    "                                n_estimators=int(2**7.180527387650649),\n",
    "                                n_jobs=-1)"
   ]
  },
  {
   "cell_type": "code",
   "execution_count": null,
   "metadata": {},
   "outputs": [],
   "source": [
    "%%time\n",
    "xgb_up.fit(X_up_train, Y_up_train)\n",
    "xgb_down.fit(X_down_train, Y_down_train)\n",
    "rf_up.fit(X_up_train, Y_up_train)\n",
    "rf_down.fit(X_down_train, Y_down_train)"
   ]
  },
  {
   "cell_type": "code",
   "execution_count": null,
   "metadata": {},
   "outputs": [],
   "source": [
    "%%time\n",
    "pred_xgb_up = xgb_up.predict(X_up_test)\n",
    "pred_xgb_down = xgb_down.predict(X_down_test)\n",
    "pred_rf_up = rf_up.predict(X_up_test)\n",
    "pred_rf_down = rf_down.predict(X_down_test)"
   ]
  },
  {
   "cell_type": "code",
   "execution_count": null,
   "metadata": {
    "scrolled": true
   },
   "outputs": [],
   "source": [
    "f = pd.DataFrame()\n",
    "f['names']  = list(df_down_test.drop('Y', axis=1).columns)\n",
    "f['importance'] = xgb_down.feature_importances_\n",
    "f.sort_values(by='importance', ascending=False)"
   ]
  },
  {
   "cell_type": "code",
   "execution_count": null,
   "metadata": {},
   "outputs": [],
   "source": [
    "np.bincount(Y_up_test)"
   ]
  },
  {
   "cell_type": "code",
   "execution_count": null,
   "metadata": {},
   "outputs": [],
   "source": [
    "np.bincount(pred_xgb_up)"
   ]
  },
  {
   "cell_type": "code",
   "execution_count": null,
   "metadata": {},
   "outputs": [],
   "source": [
    "print('\\tXGB up')\n",
    "summary(Y_up_test, pred_xgb_up)\n",
    "print()\n",
    "print('\\tXGB down')\n",
    "summary(Y_down_test, pred_xgb_down)\n",
    "print()\n",
    "print('\\tRF up')\n",
    "summary(Y_up_test, pred_rf_up)\n",
    "print()\n",
    "print('\\tRF down')\n",
    "summary(Y_down_test, pred_rf_down)"
   ]
  },
  {
   "attachments": {
    "image.png": {
     "image/png": "[encoded data removed]"
    }
   },
   "cell_type": "markdown",
   "metadata": {},
   "source": [
    "w/ preprocessing, w/o censoring\n",
    "![image.png](attachment:image.png)"
   ]
  },
  {
   "cell_type": "markdown",
   "metadata": {},
   "source": [
    "## Stacking models"
   ]
  },
  {
   "cell_type": "markdown",
   "metadata": {},
   "source": [
    "### Up"
   ]
  },
  {
   "cell_type": "code",
   "execution_count": null,
   "metadata": {},
   "outputs": [],
   "source": [
    "def profit_score(true, pred, price0, price1, fee=0.001, double_fee=False):\n",
    "    '''\n",
    "    if pred > 0 then buy\n",
    "    if pred < 0 then sell\n",
    "    '''\n",
    "    profits = []\n",
    "    price_abs_diff = price1 - price0\n",
    "    for i in range(len(true)):\n",
    "        if pred[i] != 0:\n",
    "            profits.append(np.sign(pred[i]) * price_abs_diff[i] - (price0[i] + double_fee * price1[i]) * fee)\n",
    "        else:\n",
    "            profits.append(0)\n",
    "    profits = np.array(profits)\n",
    "    return profits.sum(), profits\n",
    "\n",
    "price0 = df_test.price_9.values\n",
    "price1 = df_test.target.values"
   ]
  },
  {
   "cell_type": "code",
   "execution_count": null,
   "metadata": {},
   "outputs": [],
   "source": [
    "est_rf_up = [('rf'+str(i), RandomForestClassifier(max_depth=int(1.2**19),\n",
    "                               min_samples_leaf=7,\n",
    "                               n_estimators=int(2**3.3453193469804283),\n",
    "                               n_jobs=1)) \n",
    "               for i in range(10)]\n",
    "ens_rf_up = VotingClassifier(est_rf_up, n_jobs=-1)"
   ]
  },
  {
   "cell_type": "code",
   "execution_count": null,
   "metadata": {},
   "outputs": [],
   "source": [
    "ens_rf_up.fit(X_up_train, Y_up_train)"
   ]
  },
  {
   "cell_type": "markdown",
   "metadata": {},
   "source": [
    "# Using precision metrics"
   ]
  },
  {
   "cell_type": "code",
   "execution_count": null,
   "metadata": {},
   "outputs": [],
   "source": [
    "parameter_space = {'max_depth':hp.quniform('max_depth',2,20,q=1),\n",
    "                  'learing_rate':hp.uniform('learing_rate',-5,-1),\n",
    "                  'n_estimators':hp.quniform('n_estimators',3,8,q=1),\n",
    "                   'objective':hp.choice('objective',['reg:linear','reg:logistic','binary:logistic']),\n",
    "                  'booster':hp.choice('booster',['gbtree', 'gblinear', 'dart']),\n",
    "                  'min_child_weight':hp.quniform('min_child_weight',1,5,q=1),\n",
    "                  'max_delta_step':hp.quniform('max_delta_step',0,5,q=1)}"
   ]
  },
  {
   "cell_type": "code",
   "execution_count": null,
   "metadata": {
    "scrolled": true
   },
   "outputs": [],
   "source": [
    "%%time\n",
    "f_xgb_up = ObjectiveFunctionXGBClassifier(df_up, metrics.recall_score, k_folds=4)\n",
    "trials = hyperopt.Trials()\n",
    "\n",
    "best = hyperopt.fmin(f_xgb_up, parameter_space, \n",
    "                     algo=hyperopt.tpe.suggest, max_evals=300, trials=trials, verbose=1)\n",
    "print(\"best estimate parameters\", best)"
   ]
  },
  {
   "cell_type": "raw",
   "metadata": {},
   "source": [
    "Iteration: 73\n",
    "params: {'booster': 'gbtree', 'learing_rate': -1.912594765190702, 'max_delta_step': 0.0, 'max_depth': 3.0, 'min_child_weight': 3.0, 'n_estimators': 8.0, 'objective': 'reg:linear'}\n",
    "Scores: [1.         0.74104683 0.2679558  0.28176796]\n",
    "Mean score: 0.5726926472155001\n",
    "\n",
    "best estimate parameters {'booster': 0, 'learing_rate': -1.912594765190702, 'max_delta_step': 0.0, 'max_depth': 3.0, 'min_child_weight': 3.0, 'n_estimators': 8.0, 'objective': 0}\n",
    "CPU times: user 26.4 s, sys: 1.8 s, total: 28.2 s\n",
    "Wall time: 1h 4min 28s"
   ]
  },
  {
   "cell_type": "code",
   "execution_count": null,
   "metadata": {},
   "outputs": [],
   "source": [
    "parameter_space = {'max_depth':hp.quniform('max_depth',8,35,q=1),\n",
    "                  'n_estimators':hp.uniform('n_estimators',3,10),\n",
    "                  'min_samples_leaf':hp.quniform('min_samples_leaf',2,15,q=1)}"
   ]
  },
  {
   "cell_type": "code",
   "execution_count": null,
   "metadata": {
    "scrolled": true
   },
   "outputs": [],
   "source": [
    "%%time\n",
    "f_rf_up = ObjectiveFunctionRandomForestClassifier(df_up, metrics.recall_score, k_folds=4)\n",
    "trials = hyperopt.Trials()\n",
    "\n",
    "best = hyperopt.fmin(f_rf_up, parameter_space, \n",
    "                     algo=hyperopt.tpe.suggest, max_evals=300, trials=trials, verbose=1)\n",
    "print(\"best estimate parameters\", best)"
   ]
  },
  {
   "cell_type": "raw",
   "metadata": {},
   "source": [
    "Iteration: 211\n",
    "params: {'max_depth': 16.0, 'min_samples_leaf': 5.0, 'n_estimators': 3.803521739088288}\n",
    "Scores: [1.         0.74655647 0.27071823 0.19889503]\n",
    "Mean score: 0.5540424333744274\n",
    "\n",
    "best estimate parameters {'max_depth': 16.0, 'min_samples_leaf': 5.0, 'n_estimators': 3.803521739088288}"
   ]
  },
  {
   "cell_type": "markdown",
   "metadata": {},
   "source": [
    "#### Test"
   ]
  },
  {
   "cell_type": "code",
   "execution_count": null,
   "metadata": {},
   "outputs": [],
   "source": [
    "df_test = pickle.load(open(PATH_TO_DATA+'dataset_test.pkl', 'rb'))\n",
    "df_up_test = df_test.drop(['Y_down', 'target'], axis=1).rename(columns={'Y_up':'Y'})\n",
    "df_down_test = df_test.drop(['Y_up', 'target'], axis=1).rename(columns={'Y_down':'Y'})\n",
    "\n",
    "X_up_train, Y_up_train = df_up.drop('Y', axis=1).values, df_up['Y'].values\n",
    "X_down_train, Y_down_train = df_down.drop('Y', axis=1).values, df_down['Y'].values\n",
    "X_up_test, Y_up_test = df_up_test.drop('Y', axis=1).values, df_up_test['Y'].values\n",
    "X_down_test, Y_down_test = df_down_test.drop('Y', axis=1).values, df_down_test['Y'].values"
   ]
  },
  {
   "cell_type": "code",
   "execution_count": null,
   "metadata": {},
   "outputs": [],
   "source": [
    "xgb_up = XGBClassifier(max_depth=3,\n",
    "                        learing_rate=3**-1.912594765190702,\n",
    "                        n_estimators=int(2**8),\n",
    "                        objective='reg:linear',\n",
    "                        booster='gbtree',\n",
    "                        min_child_weight=3,\n",
    "                        max_delta_step=0, \n",
    "                        nthread=-1)\n",
    "xgb_down = XGBClassifier(max_depth=3,\n",
    "                        learing_rate=3**-4.177129236828251,\n",
    "                        n_estimators=int(2**4),\n",
    "                        objective='reg:linear',\n",
    "                        booster='dart',\n",
    "                        min_child_weight=4,\n",
    "                        max_delta_step=0, \n",
    "                        nthread=-1)\n",
    "rf_up = RandomForestClassifier(max_depth=int(1.2**16),\n",
    "                               min_samples_leaf=5,\n",
    "                               n_estimators=int(2**3.803521739088288),\n",
    "                               n_jobs=-1)\n",
    "rf_down = RandomForestClassifier(max_depth=int(1.2**9),\n",
    "                                min_samples_leaf=11,\n",
    "                                n_estimators=int(2**6.41045407428725),\n",
    "                                n_jobs=-1)"
   ]
  },
  {
   "cell_type": "code",
   "execution_count": null,
   "metadata": {},
   "outputs": [],
   "source": [
    "%%time\n",
    "xgb_up.fit(X_up_train, Y_up_train)\n",
    "xgb_down.fit(X_down_train, Y_down_train)\n",
    "rf_up.fit(X_up_train, Y_up_train)\n",
    "rf_down.fit(X_down_train, Y_down_train)"
   ]
  },
  {
   "cell_type": "code",
   "execution_count": null,
   "metadata": {},
   "outputs": [],
   "source": [
    "%%time\n",
    "pred_xgb_up = xgb_up.predict(X_up_test)\n",
    "pred_xgb_down = xgb_down.predict(X_down_test)\n",
    "pred_rf_up = rf_up.predict(X_up_test)\n",
    "pred_rf_down = rf_down.predict(X_down_test)"
   ]
  },
  {
   "cell_type": "code",
   "execution_count": null,
   "metadata": {
    "scrolled": true
   },
   "outputs": [],
   "source": [
    "f = pd.DataFrame()\n",
    "f['names']  = list(df_down_test.drop('Y', axis=1).columns)\n",
    "f['importance'] = xgb_down.feature_importances_\n",
    "f.sort_values(by='importance', ascending=False)"
   ]
  },
  {
   "cell_type": "code",
   "execution_count": null,
   "metadata": {},
   "outputs": [],
   "source": [
    "np.bincount(Y_up_test)"
   ]
  },
  {
   "cell_type": "code",
   "execution_count": null,
   "metadata": {},
   "outputs": [],
   "source": [
    "np.bincount(pred_xgb_up)"
   ]
  },
  {
   "cell_type": "code",
   "execution_count": null,
   "metadata": {},
   "outputs": [],
   "source": [
    "print('\\tXGB up')\n",
    "summary(Y_up_test, pred_xgb_up)\n",
    "print()\n",
    "print('\\tXGB down')\n",
    "summary(Y_down_test, pred_xgb_down)\n",
    "print()\n",
    "print('\\tRF up')\n",
    "summary(Y_up_test, pred_rf_up)\n",
    "print()\n",
    "print('\\tRF down')\n",
    "summary(Y_down_test, pred_rf_down)"
   ]
  }
 ],
 "metadata": {
  "kernelspec": {
   "display_name": "Python 3",
   "language": "python",
   "name": "python3"
  },
  "language_info": {
   "codemirror_mode": {
    "name": "ipython",
    "version": 3
   },
   "file_extension": ".py",
   "mimetype": "text/x-python",
   "name": "python",
   "nbconvert_exporter": "python",
   "pygments_lexer": "ipython3",
   "version": "3.6.7"
  }
 },
 "nbformat": 4,
 "nbformat_minor": 2
}
